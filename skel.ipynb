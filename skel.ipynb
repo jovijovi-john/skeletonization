{
 "cells": [
  {
   "cell_type": "code",
   "execution_count": null,
   "metadata": {},
   "outputs": [],
   "source": [
    "def skeletonization(src):\n",
    "    import cv2\n",
    "    import numpy as np\n",
    "    import matplotlib.pyplot as plt\n",
    "\n",
    "    img = cv2.imread(src, 0)\n",
    "\n",
    "    plt.imshow(img, cmap=\"gray\")\n",
    "    plt.xticks([]), plt.yticks([])  # serve pra tirar o x e y\n",
    "    plt.show()\n",
    "\n",
    "    size = np.size(img)\n",
    "    skel = np.zeros(img.shape, np.uint8)\n",
    "\n",
    "    ret, img = cv2.threshold(img, 127, 255, 0)\n",
    "\n",
    "    element = cv2.getStructuringElement(cv2.MORPH_CROSS, (3, 3))\n",
    "    done = False\n",
    "\n",
    "    i = 0\n",
    "    while (not done):\n",
    "        eroded = cv2.erode(img, element)\n",
    "        temp = cv2.dilate(eroded, element)\n",
    "        temp = cv2.subtract(img, temp)\n",
    "        skel = cv2.bitwise_or(skel, temp)\n",
    "        img = eroded.copy()\n",
    "\n",
    "        zeros = size - cv2.countNonZero(img)\n",
    "        \n",
    "        if zeros == size:\n",
    "            done = True\n",
    "        i = i+1\n",
    "\n",
    "        if (i == 1 or (i % 10) == 0):\n",
    "            print(f\"iteração {i}\")\n",
    "            plt.imshow(skel, cmap=\"gray\")\n",
    "            plt.xticks([]), plt.yticks([]) # serve pra tirar o x e y\n",
    "            plt.show()\n",
    "\n",
    "    print(f\"Resultado após {i} iterações\")\n",
    "    plt.imshow(skel, cmap=\"gray\")\n",
    "    plt.xticks([]), plt.yticks([]) # serve pra tirar o x e y\n",
    "    plt.show()"
   ]
  },
  {
   "cell_type": "code",
   "execution_count": null,
   "metadata": {},
   "outputs": [],
   "source": [
    "skeletonization('img/freeza.jpg')"
   ]
  }
 ],
 "metadata": {
  "kernelspec": {
   "display_name": "Python 3.10.6 ('venv': venv)",
   "language": "python",
   "name": "python3"
  },
  "language_info": {
   "codemirror_mode": {
    "name": "ipython",
    "version": 3
   },
   "file_extension": ".py",
   "mimetype": "text/x-python",
   "name": "python",
   "nbconvert_exporter": "python",
   "pygments_lexer": "ipython3",
   "version": "3.10.6"
  },
  "orig_nbformat": 4,
  "vscode": {
   "interpreter": {
    "hash": "8c8a220db93d6e20e9f8388ed19598e530611f0d437f343287e13f865e23a158"
   }
  }
 },
 "nbformat": 4,
 "nbformat_minor": 2
}
